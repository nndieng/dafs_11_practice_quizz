{
 "cells": [
  {
   "cell_type": "markdown",
   "metadata": {
    "colab_type": "text",
    "id": "FY347VxWs_bJ"
   },
   "source": [
    "# Build a quizz\n",
    "\n",
    "---\n",
    "\n",
    "\n"
   ]
  },
  {
   "cell_type": "markdown",
   "metadata": {},
   "source": [
    "## Build an optimize quizz"
   ]
  },
  {
   "cell_type": "markdown",
   "metadata": {
    "colab_type": "text",
    "id": "nh4voWn8x3dM"
   },
   "source": [
    "Now, we would like to tackle a last problem : we want to allow only 3 wrong answers (among all questions).\n",
    "\n",
    "7. Improve your code : if the user makes 3 wrong answers, the program should stop and print (\"Too bad, you lost the game !\")\n"
   ]
  },
  {
   "cell_type": "code",
   "execution_count": 1,
   "metadata": {},
   "outputs": [
    {
     "name": "stdout",
     "output_type": "stream",
     "text": [
      "Your answer 2004\n",
      "Good job! This is the right answer.\n",
      "Your answer South Africa\n",
      "Good job! This is the right answer.\n",
      "Your answer Google\n",
      "Good job! This is the right answer.\n",
      "Well done, you have win!\n"
     ]
    }
   ],
   "source": [
    "#Liste contenant les questions et les réponses\n",
    "questions_answers = [\n",
    "    {\n",
    "        \"question\":\"In which year Facebook was found?\",\n",
    "        \"answer\":\"2004\"\n",
    "    },\n",
    "    {\n",
    "        \"question\":\"In wich country was born Elon Musk ?\",\n",
    "        \"answer\":\"South Africa\"\n",
    "    },\n",
    "    {\n",
    "        \"question\":\"Of which company Larry Page is the co-founder\",\n",
    "        \"answer\": \"Google\"\n",
    "    }\n",
    "]\n",
    "\n",
    "#List contenant les messages du quizz\n",
    "message_failure = \"Too bad! that is not the correct answer.\" #ne pas faire de dico mettre string\n",
    "\n",
    "message_success = \"Good job! This is the right answer.\"\n",
    "\n",
    "message_lost_game = \"Too bad, you lost the game !\"\n",
    "\n",
    "message_win_game = \"Well done, you have win!\"\n",
    "\n",
    "#Nombre d'essai maximum\n",
    "nb_failure_max = 3\n",
    "\n",
    "\n",
    "\n",
    "#méthode qui permet d'executer le quizz\n",
    "def quizz(questions_answers, nb_failure_max, message_failure, message_success, message_lost_game, message_win_game):\n",
    "    is_quizz_lost = False\n",
    "    nb_failure = 0\n",
    "    for question_answer in questions_answers:\n",
    "\n",
    "        #affichage de la question\n",
    "        entered_answer = input(question_answer[\"question\"])\n",
    "\n",
    "        #récupération de la réponse\n",
    "        real_answer = question_answer[\"answer\"]\n",
    "        print(\"Your answer {}\".format(entered_answer))\n",
    "\n",
    "        #tant que la réponse n'est pas correct on affiche la question\n",
    "        while entered_answer.lower() != real_answer.lower():\n",
    "            nb_failure += 1\n",
    "            print(message_failure)\n",
    "            if nb_failure < nb_failure_max : \n",
    "                entered_answer = input(question_answer[\"question\"])\n",
    "                real_answer = question_answer[\"answer\"]\n",
    "                print(\"Your answer {}\".format(entered_answer))\n",
    "\n",
    "            #si le nombre d'essai est atteint on affiche un message et on sort de la boucle while\n",
    "            if(nb_failure == nb_failure_max) :\n",
    "                print(message_lost_game)\n",
    "                is_quizz_lost = True\n",
    "                break\n",
    "      \n",
    "        #si le nombre d'essai est atteint on sort de la boucle for\n",
    "        if(nb_failure == nb_failure_max) :\n",
    "            break\n",
    "        \n",
    "        #Cas où la réponse à la question est correcte\n",
    "        if entered_answer.lower() == real_answer.lower():\n",
    "            print(message_success)\n",
    "            #Mise à jour du nombre d'essai à 0 pour la prochaine question\n",
    "            nb_failure = 0\n",
    "\n",
    "    if not is_quizz_lost:\n",
    "        print(message_win_game)\n",
    "\n",
    "quizz(questions_answers, nb_failure_max, message_failure, message_success, message_lost_game, message_win_game)"
   ]
  }
 ],
 "metadata": {
  "colab": {
   "name": "Construire un quiz - SOLUTIONS S1-1A.ipynb",
   "provenance": []
  },
  "kernelspec": {
   "display_name": "JEDHA",
   "language": "python",
   "name": "python3"
  },
  "language_info": {
   "codemirror_mode": {
    "name": "ipython",
    "version": 3
   },
   "file_extension": ".py",
   "mimetype": "text/x-python",
   "name": "python",
   "nbconvert_exporter": "python",
   "pygments_lexer": "ipython3",
   "version": "3.12.4"
  }
 },
 "nbformat": 4,
 "nbformat_minor": 1
}
